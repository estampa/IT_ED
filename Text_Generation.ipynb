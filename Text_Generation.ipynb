{
  "nbformat": 4,
  "nbformat_minor": 0,
  "metadata": {
    "colab": {
      "provenance": [],
      "gpuType": "T4",
      "include_colab_link": true
    },
    "kernelspec": {
      "name": "python3",
      "display_name": "Python 3"
    },
    "language_info": {
      "name": "python"
    },
    "accelerator": "GPU"
  },
  "cells": [
    {
      "cell_type": "markdown",
      "metadata": {
        "id": "view-in-github",
        "colab_type": "text"
      },
      "source": [
        "<a href=\"https://colab.research.google.com/github/marcpadro/eines_colab/blob/main/Text_Generation.ipynb\" target=\"_parent\"><img src=\"https://colab.research.google.com/assets/colab-badge.svg\" alt=\"Open In Colab\"/></a>"
      ]
    },
    {
      "cell_type": "code",
      "metadata": {
        "id": "actejpihghSI",
        "cellView": "form"
      },
      "source": [
        "#@markdown # Inicialitzar\n",
        "\n",
        "# !pip install torch torchvision\n",
        "# !pip install git+https://github.com/huggingface/transformers@335c0ca35c159f88d73198bdac928e61a4d480c7\n",
        "# !pip install transformers\n",
        "!pip install peft\n",
        "# !pip install accelerate\n",
        "# !pip install -i https://pypi.org/simple/ bitsandbytes\n",
        "\n",
        "#Import Hugging Face's Transformers\n",
        "from transformers import pipeline\n",
        "# This is to log our outputs in a nicer format\n",
        "from pprint import pprint\n",
        "import os\n",
        "from peft import PeftModel, PeftConfig\n",
        "from transformers import pipeline, AutoTokenizer, AutoModelForCausalLM\n",
        "import gc\n",
        "import torch\n",
        "import time"
      ],
      "execution_count": null,
      "outputs": []
    },
    {
      "cell_type": "code",
      "metadata": {
        "id": "2nA9_Q9ChH8D",
        "cellView": "form"
      },
      "source": [
        "#@markdown # Carregar Model\n",
        "\n",
        "entrenament = 'punk' #@param [\"punk\", \"manifestos\", \"antic-testament\", \"punk-gran\", \"manifestos-gran\"]\n",
        "\n",
        "# import locale\n",
        "# locale.getpreferredencoding = lambda: \"UTF-8\"\n",
        "\n",
        "if not os.path.exists(entrenament):\n",
        "  !wget 'https://tallerestampa.com/files/models/{entrenament}.zip'\n",
        "  !unzip {entrenament}.zip\n",
        "\n",
        "\n",
        "try:\n",
        "  del config\n",
        "  del model\n",
        "except:\n",
        "  pass\n",
        "try:\n",
        "  del tokenizer\n",
        "  del lm\n",
        "  del generator\n",
        "except:\n",
        "  pass\n",
        "time.sleep(0.1)\n",
        "gc.collect()\n",
        "\n",
        "torch.cuda.empty_cache()\n",
        "\n",
        "# gc.collect()\n",
        "# torch.cuda.empty_cache()\n",
        "\n",
        "# time.sleep(1)\n",
        "\n",
        "if entrenament in ('punk-gran', 'manifestos-gran'):\n",
        "  config = PeftConfig.from_pretrained(entrenament)\n",
        "  model = AutoModelForCausalLM.from_pretrained(\n",
        "      config.base_model_name_or_path, return_dict=True, load_in_8bit=True, device_map=\"auto\"\n",
        "  )\n",
        "  tokenizer = AutoTokenizer.from_pretrained(config.base_model_name_or_path, padding_side=\"left\")\n",
        "  # Load the Lora model\n",
        "  lm = PeftModel.from_pretrained(model, entrenament)\n",
        "  generator = pipeline('text-generation', model=lm, tokenizer=tokenizer)\n",
        "else:\n",
        "  lm = AutoModelForCausalLM.from_pretrained(entrenament)\n",
        "  tokenizer = AutoTokenizer.from_pretrained(entrenament, padding_side=\"left\")\n",
        "  generator = pipeline('text-generation', model=lm, tokenizer=tokenizer, device=0)"
      ],
      "execution_count": null,
      "outputs": []
    },
    {
      "cell_type": "code",
      "metadata": {
        "id": "Dc3rv-vSkByz",
        "cellView": "form"
      },
      "source": [
        "#@title Your first completion\n",
        "\n",
        "prompt = \"My name is Zack and I like to\"#@param {type: \"string\"}\n",
        "min_length = 50#@param {type: \"number\"}\n",
        "max_length = 200#@param {type: \"number\"}\n",
        "temperature = 0.8#@param {type: \"slider\", min: 0, max: 4, step: 0.1}\n",
        "temperature = max(0.0001, temperature)\n",
        "output = generator(prompt, do_sample=True, min_length=min_length, max_length=max_length, temperature=temperature)\n",
        "print()\n",
        "print()\n",
        "print( output[0]['generated_text'] )"
      ],
      "execution_count": null,
      "outputs": []
    }
  ]
}