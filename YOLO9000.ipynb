{
  "nbformat": 4,
  "nbformat_minor": 0,
  "metadata": {
    "colab": {
      "provenance": [],
      "include_colab_link": true
    },
    "kernelspec": {
      "name": "python3",
      "display_name": "Python 3"
    },
    "accelerator": "GPU"
  },
  "cells": [
    {
      "cell_type": "markdown",
      "metadata": {
        "id": "view-in-github",
        "colab_type": "text"
      },
      "source": [
        "<a href=\"https://colab.research.google.com/github/marcpadro/eines_colab/blob/main/YOLO9000.ipynb\" target=\"_parent\"><img src=\"https://colab.research.google.com/assets/colab-badge.svg\" alt=\"Open In Colab\"/></a>"
      ]
    },
    {
      "cell_type": "code",
      "metadata": {
        "id": "3o-aWASta-Vk",
        "cellView": "form"
      },
      "source": [
        "#@title Inicialitzar\n",
        "# make sure you use Tesla K80 GPU (12GB), by changing 'runtmie type'\n",
        "\n",
        "!nvidia-smi\n",
        "\n",
        "!apt install gcc-5 g++-5 -y\n",
        "!ln -s /usr/bin/gcc-5 /usr/local/cuda/bin/gcc\n",
        "!ln -s /usr/bin/g++-5 /usr/local/cuda/bin/g++\n",
        "\n",
        "!apt install ffmpeg libopencv-dev libgtk-3-dev python-numpy python3-numpy libdc1394-22 libdc1394-22-dev libjpeg-dev libtiff5-dev libavcodec-dev libavformat-dev libswscale-dev libxine2-dev libgstreamer1.0-dev libgstreamer-plugins-base1.0-dev libv4l-dev libtbb-dev qtbase5-dev libfaac-dev libmp3lame-dev libopencore-amrnb-dev libopencore-amrwb-dev libtheora-dev libvorbis-dev libxvidcore-dev x264 v4l-utils unzip\n",
        "\n",
        "#clone darknet repository\n",
        "import os\n",
        "os.environ['PATH'] += ':/usr/local/cuda/bin'\n",
        "%cd -q /content\n",
        "!rm -fr darknet\n",
        "!git clone https://github.com/AlexeyAB/darknet.git\n",
        "\n",
        "# go to the darknet folder, enable GPU, then compile the entire thing\n",
        "%cd -q darknet\n",
        "!sed -i 's/GPU=0/GPU=1/g' Makefile\n",
        "!sed -i 's/OPENCV=0/OPENCV=1/g' Makefile\n",
        "!make\n",
        "\n",
        "# get yolo9000 weights\n",
        "!wget https://pjreddie.com/media/files/yolo9000.weights\n",
        "!wget -O ./data/9k.labels https://raw.githubusercontent.com/pjreddie/darknet/master/data/9k.labels\n",
        "!wget -O ./data/9k.names https://raw.githubusercontent.com/pjreddie/darknet/master/data/9k.names\n",
        "!chmod a+x ./darknet\n",
        "\n",
        "from google.colab import files\n",
        "from google.colab import output\n",
        "\n",
        "output.clear()\n",
        "\n",
        "print(\"Ready!\")\n",
        "\n"
      ],
      "execution_count": null,
      "outputs": []
    },
    {
      "cell_type": "code",
      "metadata": {
        "id": "l4dKHacM3Nko",
        "cellView": "form"
      },
      "source": [
        "#@title Processar vídeo(s)\n",
        "\n",
        "!rm -fr /content/input_files\n",
        "!rm -fr /content/output_files\n",
        "\n",
        "!mkdir /content/input_files\n",
        "!mkdir /content/output_files\n",
        "\n",
        "%cd -q /content/input_files\n",
        "uploaded = files.upload()\n",
        "\n",
        "%cd -q /content/darknet\n",
        "\n",
        "thresh = 0.2 #@param {type: 'slider', min: 0, max: 1, step: 0.05}\n",
        "\n",
        "# show_confidence = False #@param {type: 'boolean'}\n",
        "\n",
        "for file in uploaded:\n",
        "  input_file = \"/content/input_files/{}\".format(file)\n",
        "  output_file = \"/content/output_files/yolo9000__t{}_{}\".format(thresh, file)\n",
        "  !./darknet detector demo cfg/combine9k.data cfg/yolo9000.cfg yolo9000.weights -dont_show {input_file} -i 0 -out_filename {output_file} -thresh {thresh}\n",
        "  files.download(output_file)\n",
        "\n",
        "output.clear()\n",
        "\n",
        "print(\"Done!\")"
      ],
      "execution_count": null,
      "outputs": []
    },
    {
      "cell_type": "code",
      "metadata": {
        "id": "teX1yuAGhk0E",
        "cellView": "form"
      },
      "source": [
        "#@title Processar imatge(s)\n",
        "\n",
        "!rm -fr /content/input_files\n",
        "!rm -fr /content/output_files\n",
        "\n",
        "!mkdir /content/input_files\n",
        "!mkdir /content/output_files\n",
        "\n",
        "%cd -q /content/input_files\n",
        "uploaded = files.upload()\n",
        "\n",
        "%cd -q /content/darknet\n",
        "\n",
        "thresh = 0.2 #@param {type: 'slider', min: 0, max: 1, step: 0.05}\n",
        "\n",
        "for file in uploaded:\n",
        "  input_file = \"/content/input_files/{}\".format(file)\n",
        "  output_file = \"/content/output_files/yolo9000__t{}_{}\".format(thresh, file)\n",
        "  !./darknet detector test cfg/combine9k.data cfg/yolo9000.cfg yolo9000.weights -dont_show {input_file} -thresh {thresh}\n",
        "  !mv ./predictions.jpg {output_file}\n",
        "  files.download(output_file)\n",
        "\n",
        "output.clear()\n",
        "\n",
        "print(\"Done!\")\n"
      ],
      "execution_count": null,
      "outputs": []
    }
  ]
}